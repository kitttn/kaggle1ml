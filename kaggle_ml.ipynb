{
 "cells": [
  {
   "cell_type": "code",
   "execution_count": 151,
   "metadata": {
    "collapsed": false,
    "scrolled": true
   },
   "outputs": [
    {
     "name": "stdout",
     "output_type": "stream",
     "text": [
      "Populating the interactive namespace from numpy and matplotlib\n"
     ]
    },
    {
     "data": {
      "text/plain": [
       "'%r'"
      ]
     },
     "execution_count": 151,
     "metadata": {},
     "output_type": "execute_result"
    }
   ],
   "source": [
    "%pylab inline\n",
    "%precision 6astype(float)"
   ]
  },
  {
   "cell_type": "code",
   "execution_count": 152,
   "metadata": {
    "collapsed": true
   },
   "outputs": [],
   "source": [
    "import re\n",
    "import nltk\n",
    "import csv\n",
    "import pandas as pd\n",
    "import numpy as np\n",
    "import sklearn as skl\n",
    "import math\n",
    "import time\n",
    "import datetime\n",
    "from sklearn.preprocessing import StandardScaler"
   ]
  },
  {
   "cell_type": "markdown",
   "metadata": {},
   "source": [
    "## Parser"
   ]
  },
  {
   "cell_type": "code",
   "execution_count": 153,
   "metadata": {
    "collapsed": false
   },
   "outputs": [
    {
     "data": {
      "text/plain": [
       "'PostId,PostCreationDate,OwnerUserId,OwnerCreationDate,ReputationAtPostCreation,OwnerUndeletedAnswerCountAtPostTime,Title,BodyMarkdown,Tag1,Tag2,Tag3,Tag4,Tag5,PostClosedDate,OpenStatus\\n'"
      ]
     },
     "execution_count": 153,
     "metadata": {},
     "output_type": "execute_result"
    }
   ],
   "source": [
    "f = open(\"train.csv\", encoding=\"cp1251\")\n",
    "f.readline()"
   ]
  },
  {
   "cell_type": "code",
   "execution_count": 154,
   "metadata": {
    "collapsed": true
   },
   "outputs": [],
   "source": [
    "real_test_path=\"test.csv\"\n",
    "datarealtest = pd.read_csv(real_test_path, encoding=\"cp1251\")"
   ]
  },
  {
   "cell_type": "code",
   "execution_count": 155,
   "metadata": {
    "collapsed": true
   },
   "outputs": [],
   "source": [
    "class Data:\n",
    "    def __init__(self, lst):\n",
    "        self.postId = lst[0]\n",
    "        self.postCreationDate = lst[1]\n",
    "        self.ownerUserId = lst[2]\n",
    "        self.ownerCreationDate = lst[3]\n",
    "        self.reputationAtPostCreation = lst[4]\n",
    "        self.ownerUndeletedAnswerCountAtPostTime = lst[5]\n",
    "        self.title = lst[6]\n",
    "        self.bodyMarkdown = lst[7]\n",
    "        self.tags = lst[8:13]\n",
    "        self.postClosedDate = lst[13]\n",
    "        self.openStatus = lst[14]\n",
    "\n",
    "    def getList(self):\n",
    "        res = []\n",
    "        res.append(self.postId)\n",
    "        res.append(self.postCreationDate)\n",
    "        res.append(self.ownerUserId)\n",
    "        res.append(self.ownerCreationDate)\n",
    "        res.append(self.reputationAtPostCreation)\n",
    "        res.append(self.ownerUndeletedAnswerCountAtPostTime)\n",
    "        res.append(self.title)\n",
    "        res.append(self.bodyMarkdown)\n",
    "        for i in self.tags:\n",
    "            if len(i)==0:\n",
    "                res.append(\"NaN\")\n",
    "            else:\n",
    "                res.append(i)\n",
    "        \n",
    "        if len(self.postClosedDate)==0:\n",
    "            res.append(\"0\")\n",
    "        else:\n",
    "            res.append(self.postClosedDate)\n",
    "        \n",
    "        d='01234'\n",
    "        if len(self.openStatus)==0 or not self.openStatus in d:\n",
    "            res=\"NaN\"\n",
    "        else:\n",
    "            res.append(self.openStatus)\n",
    "        \n",
    "        return res\n",
    "\n",
    "    def __unicode__(self):\n",
    "        return \"{id: %s}\" % self.postId\n",
    "\n",
    "    def __str__(self):\n",
    "        return self.__unicode__()"
   ]
  },
  {
   "cell_type": "code",
   "execution_count": 156,
   "metadata": {
    "collapsed": true
   },
   "outputs": [],
   "source": [
    "def readOne():\n",
    "    regexp = r'(?<!\")\"(?!\")'\n",
    "    fullStr = r'\",([a-zA-Z0-9!@#$%^&+*\\(\\)\\[\\]\\\\\\/.-]*,){5}(\\d{2}/\\d{2}/\\d{4} \\d{2}:\\d{2}:\\d{2})*,\\d'\n",
    "\n",
    "    s = f.readline()\n",
    "    if len(s) == 0:\n",
    "        return []\n",
    "    params = s.strip().split(\",\")\n",
    "\n",
    "    toTest = '\",' + \",\".join(params[-7:])\n",
    "    if re.match(fullStr, toTest):\n",
    "        # wow, we have a single-line data, good\n",
    "        return params\n",
    "\n",
    "    body = \"\".join(params[7:])[1:]\n",
    "    params = params[:8]\n",
    "    while True:\n",
    "        s = f.readline()\n",
    "        match = re.search(fullStr, s)\n",
    "        if match:\n",
    "            # found end quote, parsing data left\n",
    "            offs = match.start(0)\n",
    "            body += s[:offs]\n",
    "            left = s[offs + 2:]\n",
    "            params[7] = body\n",
    "            params += left.strip().split(\",\")\n",
    "            return params\n",
    "\n",
    "        body += s"
   ]
  },
  {
   "cell_type": "code",
   "execution_count": 158,
   "metadata": {
    "collapsed": false
   },
   "outputs": [],
   "source": [
    "res = []\n",
    "\n",
    "for i in range(5000):\n",
    "#while True:\n",
    "    src = readOne()\n",
    "    \n",
    "    if (len(src) == 0):\n",
    "        break\n",
    "    res.append(Data(src))"
   ]
  },
  {
   "cell_type": "code",
   "execution_count": 159,
   "metadata": {
    "collapsed": false
   },
   "outputs": [
    {
     "name": "stdout",
     "output_type": "stream",
     "text": [
      "5000\n"
     ]
    }
   ],
   "source": [
    "print (len(res))"
   ]
  },
  {
   "cell_type": "code",
   "execution_count": 160,
   "metadata": {
    "collapsed": false
   },
   "outputs": [],
   "source": [
    "cols = ['PostId', 'PostCreationDate', 'OwnerUserId', 'OwnerCreationDate', 'ReputationAtPostCreation', \n",
    "           'OwnerUndeletedAnswerCountAtPostTime', 'Title', 'BodyMarkdown', 'Tag1', 'Tag2', 'Tag3', 'Tag4', \n",
    "           'Tag5', 'PostClosedDate', 'OpenStatus']\n",
    "listData = []\n",
    "for i in range(len(res)):\n",
    "    l = res[i].getList()\n",
    "    if l!=\"NaN\":\n",
    "        listData.append(l)"
   ]
  },
  {
   "cell_type": "code",
   "execution_count": 161,
   "metadata": {
    "collapsed": false
   },
   "outputs": [],
   "source": [
    "data = pd.DataFrame(listData, columns=cols)"
   ]
  },
  {
   "cell_type": "code",
   "execution_count": 162,
   "metadata": {
    "collapsed": false
   },
   "outputs": [
    {
     "data": {
      "text/plain": [
       "0    3245\n",
       "4     405\n",
       "2     381\n",
       "3     353\n",
       "1     343\n",
       "Name: OpenStatus, dtype: int64"
      ]
     },
     "execution_count": 162,
     "metadata": {},
     "output_type": "execute_result"
    }
   ],
   "source": [
    "data.OpenStatus.value_counts()"
   ]
  },
  {
   "cell_type": "code",
   "execution_count": 163,
   "metadata": {
    "collapsed": false
   },
   "outputs": [],
   "source": [
    "data.ReputationAtPostCreation=data.ReputationAtPostCreation.astype(int)\n",
    "data.PostId=data.PostId.astype(int)\n",
    "data.OwnerUserId=data.OwnerUserId.astype(int)\n",
    "data.OwnerUndeletedAnswerCountAtPostTime=data.OwnerUndeletedAnswerCountAtPostTime.astype(int)\n",
    "data.OwnerUserId=data.OwnerUserId.astype(int)"
   ]
  },
  {
   "cell_type": "code",
   "execution_count": 108,
   "metadata": {
    "collapsed": true
   },
   "outputs": [],
   "source": [
    "datarealtest.ReputationAtPostCreation=data.ReputationAtPostCreation.astype(int)\n",
    "datarealtest.PostId=data.PostId.astype(int)\n",
    "datarealtest.OwnerUserId=data.OwnerUserId.astype(int)\n",
    "datarealtest.OwnerUndeletedAnswerCountAtPostTime=data.OwnerUndeletedAnswerCountAtPostTime.astype(int)\n",
    "datarealtest.OwnerUserId=data.OwnerUserId.astype(int)"
   ]
  },
  {
   "cell_type": "markdown",
   "metadata": {},
   "source": [
    "## Make new features"
   ]
  },
  {
   "cell_type": "code",
   "execution_count": 164,
   "metadata": {
    "collapsed": false
   },
   "outputs": [],
   "source": [
    "def find_code(data):\n",
    "    symbols = ['$','(', '{', '[', '=', '<', '#', '%', '@']\n",
    "\n",
    "    textCol=[]\n",
    "    codeCol=[]\n",
    "    for index, row in data.iterrows():\n",
    "        words=[]\n",
    "        words = str(row.BodyMarkdown)\n",
    "        sents = words.split('\\n\\n\\n')\n",
    "        text=''\n",
    "        code=''\n",
    "        for sent in sents:\n",
    "            cnt = 0\n",
    "            for sym in symbols:\n",
    "                cnt = cnt + sent.count(sym)\n",
    "            if cnt>3:\n",
    "                code = code +sent+' '\n",
    "            else:\n",
    "                text = text + sent + ' '\n",
    "        \n",
    "        textCol.append(text)\n",
    "        codeCol.append(code)\n",
    "        \n",
    "    data['Text']=textCol\n",
    "    data['Code'] = codeCol\n"
   ]
  },
  {
   "cell_type": "code",
   "execution_count": 165,
   "metadata": {
    "collapsed": false
   },
   "outputs": [],
   "source": [
    "find_code(data)"
   ]
  },
  {
   "cell_type": "code",
   "execution_count": 111,
   "metadata": {
    "collapsed": true
   },
   "outputs": [],
   "source": [
    "find_code(datarealtest)"
   ]
  },
  {
   "cell_type": "code",
   "execution_count": 166,
   "metadata": {
    "collapsed": false
   },
   "outputs": [],
   "source": [
    "def deleteBags(data):\n",
    "    bags = ['\\n','\\t','\\\\n','(','\"','+','-','=',',',';',')','{',\n",
    "            '}','[',']','?','!','$', '|', '<', '>', '#','\\\\0','*']\n",
    "    for s in bags:\n",
    "        data.Text = data.Text.apply(lambda x: x.replace(s,''))\n",
    "        data.Code = data.Code.apply(lambda x: x.replace(s,''))\n"
   ]
  },
  {
   "cell_type": "code",
   "execution_count": 167,
   "metadata": {
    "collapsed": true
   },
   "outputs": [],
   "source": [
    "deleteBags(data)"
   ]
  },
  {
   "cell_type": "code",
   "execution_count": 114,
   "metadata": {
    "collapsed": true
   },
   "outputs": [],
   "source": [
    "deleteBags(datarealtest)"
   ]
  },
  {
   "cell_type": "code",
   "execution_count": 169,
   "metadata": {
    "collapsed": false
   },
   "outputs": [
    {
     "name": "stdout",
     "output_type": "stream",
     "text": [
      "[nltk_data] Downloading package punkt to /home/argali/nltk_data...\n",
      "[nltk_data]   Package punkt is already up-to-date!\n"
     ]
    }
   ],
   "source": [
    "import nltk\n",
    "nltk.download('punkt')\n",
    "\n",
    "# Do this in your ipython notebook or analysis script\n",
    "from nltk.tokenize import word_tokenize\n",
    "\n",
    "def get_time(x):\n",
    "    try:\n",
    "        return time.mktime(datetime.datetime.strptime(x, '%m/%d/%Y %H:%M:%S').timetuple())\n",
    "    except:\n",
    "        return time.mktime(datetime.datetime.strptime(x, '%Y-%m-%d').timetuple())\n",
    "    \n",
    "def make_new_features(data):\n",
    "    ls = []\n",
    "    tg = []\n",
    "    dt=[]\n",
    "    for ind,row in data.iterrows():        \n",
    "        s = str(row.Tag1) + ' ' + str(row.Tag2) + ' ' + str(row.Tag3) + ' ' + str(row.Tag4) + ' ' + str(row.Tag5)\n",
    "        if s.find(\"NaN\")!=-1:\n",
    "            s = s[0:s.find(\"NaN\")]\n",
    "        tg.append(len(s.split(' '))-1)\n",
    "        ls.append(s)\n",
    "\n",
    "    #data['PostClosedDif'] = dt\n",
    "    data['Tags'] = ls\n",
    "    data['TagsNumber']= tg\n",
    "    data['TitleWordsCnt'] = data.Title.apply(lambda x: len(nltk.word_tokenize(re.sub('\\W+', ' ', x.lower()))))\n",
    "\n",
    "    data['BodyTextCnt'] = data.Text.apply(lambda x: len(nltk.word_tokenize(re.sub('\\W+', ' ', x.lower()))))\n",
    "    data['BodyCodeCnt'] = data.Code.apply(lambda x: len(nltk.word_tokenize(re.sub('\\W+', ' ', x.lower()))))\n",
    "    data['BodyLength'] = data.BodyMarkdown.apply(lambda x: len(x.split()))\n",
    "    data['TitleLength'] = data.Title.apply(lambda x: len(x.split()))\n",
    "    \n",
    "    data['BodySentanceCnt'] = data.BodyMarkdown.apply(lambda x: len(nltk.sent_tokenize(x.lower())))\n",
    "    data['PostCreation'] = data.PostCreationDate.apply(lambda x: get_time(x))\n",
    "    data['OwnerCreation'] = data.OwnerCreationDate.apply(lambda x: get_time(x))\n",
    "    data['PostAge'] = data.PostCreation - data.OwnerCreation\n",
    " \n",
    "    #data['BodyEntersCnt']= data.BodyMarkdown.apply(lambda x: x.count('\\n') )\n",
    "    br = data.BodyMarkdown.apply(lambda x: x.count('{')) + data.BodyMarkdown.apply(lambda x: x.count('('))\n",
    "    br = br + data.BodyMarkdown.apply(lambda x: x.count('<'))\n",
    "    data['BodyBraceCnt'] = br\n",
    "    data['BodyLinksCnt'] = data.BodyMarkdown.apply(lambda x: x.count('://') )\n",
    "    #data['BodyDogCount'] = data.BodyMarkdown.apply(lambda x: x.count('@'))\n",
    "    #data['BodyEqCount'] = data.BodyMarkdown.apply(lambda x: x.count('='))\n",
    "    #data['Title?Cnt'] = data.Title.apply(lambda x: x.count('?'))\n",
    "    #data['TitleSpaceCnt']=data.Title.apply(lambda x: x.count(' '))\n",
    "    data['PostAge'] = data.PostAge.apply(lambda x: max(x, 1))\n",
    "\n"
   ]
  },
  {
   "cell_type": "code",
   "execution_count": 170,
   "metadata": {
    "collapsed": false
   },
   "outputs": [],
   "source": [
    "make_new_features(data)"
   ]
  },
  {
   "cell_type": "code",
   "execution_count": null,
   "metadata": {
    "collapsed": true
   },
   "outputs": [],
   "source": [
    "make_new_features(datarealtest)"
   ]
  },
  {
   "cell_type": "markdown",
   "metadata": {},
   "source": [
    "## Split data"
   ]
  },
  {
   "cell_type": "code",
   "execution_count": 198,
   "metadata": {
    "collapsed": false
   },
   "outputs": [],
   "source": [
    "n = 2500\n",
    "data_train=data[:n]\n",
    "n2 = len(data)-n\n",
    "#data_train = data\n",
    "data_test = data[-n2:]\n",
    "#data_real_test = datarealtest\n",
    "features = ['ReputationAtPostCreation', 'OwnerUndeletedAnswerCountAtPostTime', 'TagsNumber',\n",
    "            'TitleWordsCnt', 'BodyTextCnt', 'BodySentanceCnt', \n",
    "            'PostAge','BodyLinksCnt','BodyBraceCnt', 'BodyCodeCnt'\n",
    "            #'PostClosedDif'\n",
    "            #'TextLength', \n",
    "            #'TitleLength','BodyEntersCnt','BodyBracketCnt','BodyAngleCnt','BodyDogCount','BodyEqCount'\n",
    "            #'Title?Cnt', 'TitleSpaceCnt',\n",
    "           ]\n",
    "X_train = np.array(data_train[features])\n",
    "X_test = np.array(data_test[features])\n",
    "#X_real_test = np.array(data_real_test[features])\n",
    "y_train = np.array(data_train.OpenStatus)\n",
    "y_test = np.array(data_test.OpenStatus)\n"
   ]
  },
  {
   "cell_type": "code",
   "execution_count": 199,
   "metadata": {
    "collapsed": false
   },
   "outputs": [],
   "source": [
    "scaler = StandardScaler()\n",
    "X_train = scaler.fit_transform(X_train)\n",
    "X_test = scaler.transform(X_test)"
   ]
  },
  {
   "cell_type": "code",
   "execution_count": 200,
   "metadata": {
    "collapsed": false
   },
   "outputs": [
    {
     "ename": "NameError",
     "evalue": "name 'X_real_test' is not defined",
     "output_type": "error",
     "traceback": [
      "\u001b[1;31m---------------------------------------------------------------------------\u001b[0m",
      "\u001b[1;31mNameError\u001b[0m                                 Traceback (most recent call last)",
      "\u001b[1;32m<ipython-input-200-3239ba4fcbda>\u001b[0m in \u001b[0;36m<module>\u001b[1;34m()\u001b[0m\n\u001b[1;32m----> 1\u001b[1;33m \u001b[0mX_real_test\u001b[0m \u001b[1;33m=\u001b[0m \u001b[0mscaler\u001b[0m\u001b[1;33m.\u001b[0m\u001b[0mtransform\u001b[0m\u001b[1;33m(\u001b[0m\u001b[0mX_real_test\u001b[0m\u001b[1;33m)\u001b[0m\u001b[1;33m\u001b[0m\u001b[0m\n\u001b[0m",
      "\u001b[1;31mNameError\u001b[0m: name 'X_real_test' is not defined"
     ]
    }
   ],
   "source": [
    "X_real_test = scaler.transform(X_real_test)"
   ]
  },
  {
   "cell_type": "markdown",
   "metadata": {},
   "source": [
    "## Tfidf"
   ]
  },
  {
   "cell_type": "code",
   "execution_count": 203,
   "metadata": {
    "collapsed": false
   },
   "outputs": [],
   "source": [
    "docs = data_train.Text\n",
    "tags = data_train.Tags + data_train.Title\n",
    "title = data_train.Title"
   ]
  },
  {
   "cell_type": "code",
   "execution_count": 204,
   "metadata": {
    "collapsed": false
   },
   "outputs": [],
   "source": [
    "from sklearn.feature_extraction.text import TfidfVectorizer\n",
    "\n",
    "vect = TfidfVectorizer(min_df=50, analyzer='word', ngram_range=(1, 2))\n",
    "vect.fit(docs)\n",
    "X_train_tfidf = vect.transform(data_train.BodyMarkdown)\n",
    "X_test_tfidf = vect.transform(data_test.BodyMarkdown)"
   ]
  },
  {
   "cell_type": "code",
   "execution_count": 205,
   "metadata": {
    "collapsed": false
   },
   "outputs": [],
   "source": [
    "vect_tags = TfidfVectorizer(min_df=50, stop_words='english', analyzer='word', ngram_range=(1, 2))\n",
    "vect_tags.fit(tags)\n",
    "X_train_tfidf_tags = vect.transform(data_train.BodyMarkdown)\n",
    "X_test_tfidf_tags = vect.transform(data_test.BodyMarkdown)"
   ]
  },
  {
   "cell_type": "code",
   "execution_count": 206,
   "metadata": {
    "collapsed": false
   },
   "outputs": [
    {
     "data": {
      "text/plain": [
       "(2500, 604)"
      ]
     },
     "execution_count": 206,
     "metadata": {},
     "output_type": "execute_result"
    }
   ],
   "source": [
    "X_train_tfidf.shape"
   ]
  },
  {
   "cell_type": "code",
   "execution_count": 207,
   "metadata": {
    "collapsed": false
   },
   "outputs": [],
   "source": [
    "import scipy.sparse as sps\n",
    "X_train_2 = sps.hstack((X_train, X_train_tfidf))\n",
    "X_test_2 = sps.hstack((X_test, X_test_tfidf))"
   ]
  },
  {
   "cell_type": "code",
   "execution_count": 208,
   "metadata": {
    "collapsed": true
   },
   "outputs": [],
   "source": [
    "X_train_2 = sps.hstack((X_train_2, X_train_tfidf_tags))\n",
    "X_test_2 = sps.hstack((X_test_2, X_test_tfidf_tags))"
   ]
  },
  {
   "cell_type": "markdown",
   "metadata": {},
   "source": [
    "## Classifier"
   ]
  },
  {
   "cell_type": "markdown",
   "metadata": {},
   "source": [
    "Just test on KNN"
   ]
  },
  {
   "cell_type": "code",
   "execution_count": 179,
   "metadata": {
    "collapsed": false
   },
   "outputs": [
    {
     "data": {
      "text/plain": [
       "0.68720000000000003"
      ]
     },
     "execution_count": 179,
     "metadata": {},
     "output_type": "execute_result"
    }
   ],
   "source": [
    "from sklearn.neighbors import KNeighborsClassifier\n",
    "from sklearn.metrics import roc_auc_score\n",
    "from sklearn.preprocessing import StandardScaler\n",
    "\n",
    "scaler = StandardScaler()\n",
    "X_train = scaler.fit_transform(X_train)\n",
    "X_test = scaler.transform(X_test)\n",
    "\n",
    "clf = KNeighborsClassifier(n_neighbors=10)\n",
    "clf.fit(X_train, y_train)\n",
    "y_hat = clf.predict(X_test)\n",
    "skl.metrics.accuracy_score(y_test, y_hat)"
   ]
  },
  {
   "cell_type": "code",
   "execution_count": 201,
   "metadata": {
    "collapsed": false
   },
   "outputs": [
    {
     "data": {
      "text/plain": [
       "0.69241131567130665"
      ]
     },
     "execution_count": 201,
     "metadata": {},
     "output_type": "execute_result"
    }
   ],
   "source": [
    "from sklearn.ensemble import RandomForestClassifier\n",
    "\n",
    "clf = RandomForestClassifier(n_estimators=500, criterion = 'gini')\n",
    "clf.fit(X_train, y_train)\n",
    "y_hat = clf.predict(X_test)\n",
    "skl.metrics.accuracy_score(y_test, y_hat)"
   ]
  },
  {
   "cell_type": "code",
   "execution_count": 181,
   "metadata": {
    "collapsed": false
   },
   "outputs": [
    {
     "data": {
      "text/plain": [
       "0.6976"
      ]
     },
     "execution_count": 181,
     "metadata": {},
     "output_type": "execute_result"
    }
   ],
   "source": [
    "from sklearn.ensemble import GradientBoostingClassifier\n",
    "\n",
    "clf = GradientBoostingClassifier()\n",
    "clf.fit(X_train, y_train)\n",
    "y_hat = clf.predict(X_test)\n",
    "skl.metrics.accuracy_score(y_test, y_hat)"
   ]
  },
  {
   "cell_type": "markdown",
   "metadata": {},
   "source": [
    "## Linear"
   ]
  },
  {
   "cell_type": "code",
   "execution_count": 216,
   "metadata": {
    "collapsed": false
   },
   "outputs": [
    {
     "name": "stderr",
     "output_type": "stream",
     "text": [
      "/home/argali/anaconda3/lib/python3.5/site-packages/sklearn/linear_model/logistic.py:701: UserWarning: lbfgs failed to converge. Increase the number of iterations.\n",
      "  warnings.warn(\"lbfgs failed to converge. Increase the number \"\n",
      "[Parallel(n_jobs=1)]: Done   1 out of   1 | elapsed:    1.0s finished\n"
     ]
    },
    {
     "data": {
      "text/plain": [
       "0.71576111360574768"
      ]
     },
     "execution_count": 216,
     "metadata": {},
     "output_type": "execute_result"
    }
   ],
   "source": [
    "from sklearn.linear_model import LogisticRegression, LogisticRegressionCV\n",
    "\n",
    "clf_linear = LogisticRegression(penalty='l2', dual=False, tol=0.0001, C=0.3, \n",
    "                                intercept_scaling=1, random_state=1, \n",
    "                                solver='lbfgs', \n",
    "                                max_iter=50, multi_class='multinomial', verbose=0.5)\n",
    "clf_linear.fit(X_train_2, y_train)\n",
    "y_hat = clf_linear.predict(X_test_2)\n",
    "skl.metrics.accuracy_score(y_test, y_hat)\n",
    "np.mean(y_test == y_hat)   "
   ]
  },
  {
   "cell_type": "markdown",
   "metadata": {},
   "source": [
    "## Result"
   ]
  },
  {
   "cell_type": "code",
   "execution_count": null,
   "metadata": {
    "collapsed": true
   },
   "outputs": [],
   "source": [
    "res = datarealtest.copy()\n",
    "res['OpenStatus'] = ans"
   ]
  },
  {
   "cell_type": "code",
   "execution_count": null,
   "metadata": {
    "collapsed": true
   },
   "outputs": [],
   "source": [
    "res.to_csv('result.csv', mode='w', index=False, columns=['PostId', 'OpenStatus'])"
   ]
  }
 ],
 "metadata": {
  "anaconda-cloud": {},
  "kernelspec": {
   "display_name": "Python [Root]",
   "language": "python",
   "name": "Python [Root]"
  }
 },
 "nbformat": 4,
 "nbformat_minor": 0
}
