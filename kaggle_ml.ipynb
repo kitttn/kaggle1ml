{
 "cells": [
  {
   "cell_type": "code",
   "execution_count": 2,
   "metadata": {
    "collapsed": false,
    "scrolled": true
   },
   "outputs": [
    {
     "name": "stdout",
     "output_type": "stream",
     "text": [
      "Populating the interactive namespace from numpy and matplotlib\n"
     ]
    },
    {
     "data": {
      "text/plain": [
       "'%r'"
      ]
     },
     "execution_count": 2,
     "metadata": {},
     "output_type": "execute_result"
    }
   ],
   "source": [
    "%pylab inline\n",
    "%precision 6astype(float)"
   ]
  },
  {
   "cell_type": "code",
   "execution_count": 3,
   "metadata": {
    "collapsed": true
   },
   "outputs": [],
   "source": [
    "import re\n",
    "import nltk\n",
    "import csv\n",
    "import pandas as pd\n",
    "import numpy as np\n",
    "import sklearn as skl\n",
    "import math\n",
    "import time\n",
    "import datetime\n",
    "from sklearn.preprocessing import StandardScaler"
   ]
  },
  {
   "cell_type": "markdown",
   "metadata": {},
   "source": [
    "## Parser"
   ]
  },
  {
   "cell_type": "code",
   "execution_count": 4,
   "metadata": {
    "collapsed": false
   },
   "outputs": [],
   "source": [
    "f = open(\"train.csv\", encoding=\"cp1251\")\n",
    "f.readline()\n",
    "test_path='test.csv'"
   ]
  },
  {
   "cell_type": "code",
   "execution_count": 5,
   "metadata": {
    "collapsed": true
   },
   "outputs": [],
   "source": [
    "class Data:\n",
    "    def __init__(self, lst):\n",
    "        self.postId = lst[0]\n",
    "        self.postCreationDate = lst[1]\n",
    "        self.ownerUserId = lst[2]\n",
    "        self.ownerCreationDate = lst[3]\n",
    "        self.reputationAtPostCreation = lst[4]\n",
    "        self.ownerUndeletedAnswerCountAtPostTime = lst[5]\n",
    "        self.title = lst[6]\n",
    "        self.bodyMarkdown = lst[7]\n",
    "        self.tags = lst[8:13]\n",
    "        self.postClosedDate = lst[13]\n",
    "        self.openStatus = lst[14]\n",
    "\n",
    "    def getList(self):\n",
    "        res = []\n",
    "        res.append(self.postId)\n",
    "        res.append(self.postCreationDate)\n",
    "        res.append(self.ownerUserId)\n",
    "        res.append(self.ownerCreationDate)\n",
    "        res.append(self.reputationAtPostCreation)\n",
    "        res.append(self.ownerUndeletedAnswerCountAtPostTime)\n",
    "        res.append(self.title)\n",
    "        res.append(self.bodyMarkdown)\n",
    "        for i in self.tags:\n",
    "            if len(i)==0:\n",
    "                res.append(\"NaN\")\n",
    "            else:\n",
    "                res.append(i)\n",
    "        \n",
    "        if len(self.postClosedDate)==0:\n",
    "            res.append(\"0\")\n",
    "        else:\n",
    "            res.append(self.postClosedDate)\n",
    "        \n",
    "        d='01234'\n",
    "        if len(self.openStatus)==0 or not self.openStatus in d:\n",
    "            res=\"NaN\"\n",
    "        else:\n",
    "            res.append(self.openStatus)\n",
    "        \n",
    "        return res\n",
    "\n",
    "    def __unicode__(self):\n",
    "        return \"{id: %s}\" % self.postId\n",
    "\n",
    "    def __str__(self):\n",
    "        return self.__unicode__()"
   ]
  },
  {
   "cell_type": "code",
   "execution_count": 6,
   "metadata": {
    "collapsed": true
   },
   "outputs": [],
   "source": [
    "def readOne():\n",
    "    regexp = r'(?<!\")\"(?!\")'\n",
    "    fullStr = r'\",([a-zA-Z0-9!@#$%^&+*\\(\\)\\[\\]\\\\\\/.-]*,){5}(\\d{2}/\\d{2}/\\d{4} \\d{2}:\\d{2}:\\d{2})*,\\d'\n",
    "\n",
    "    s = f.readline()\n",
    "    if len(s) == 0:\n",
    "        return []\n",
    "    params = s.strip().split(\",\")\n",
    "\n",
    "    toTest = '\",' + \",\".join(params[-7:])\n",
    "    if re.match(fullStr, toTest):\n",
    "        # wow, we have a single-line data, good\n",
    "        return params\n",
    "\n",
    "    body = \"\".join(params[7:])[1:]\n",
    "    params = params[:8]\n",
    "    while True:\n",
    "        s = f.readline()\n",
    "        match = re.search(fullStr, s)\n",
    "        if match:\n",
    "            # found end quote, parsing data left\n",
    "            offs = match.start(0)\n",
    "            body += s[:offs]\n",
    "            left = s[offs + 2:]\n",
    "            params[7] = body\n",
    "            params += left.strip().split(\",\")\n",
    "            return params\n",
    "\n",
    "        body += s"
   ]
  },
  {
   "cell_type": "code",
   "execution_count": 7,
   "metadata": {
    "collapsed": false
   },
   "outputs": [],
   "source": [
    "res = []\n",
    "\n",
    "for i in range(5000):\n",
    "#while True:\n",
    "    src = readOne()\n",
    "    \n",
    "    if (len(src) == 0):\n",
    "        break\n",
    "    res.append(Data(src))"
   ]
  },
  {
   "cell_type": "code",
   "execution_count": 8,
   "metadata": {
    "collapsed": false
   },
   "outputs": [
    {
     "name": "stdout",
     "output_type": "stream",
     "text": [
      "5000\n"
     ]
    }
   ],
   "source": [
    "print (len(res))"
   ]
  },
  {
   "cell_type": "code",
   "execution_count": 9,
   "metadata": {
    "collapsed": false
   },
   "outputs": [],
   "source": [
    "cols = ['PostId', 'PostCreationDate', 'OwnerUserId', 'OwnerCreationDate', 'ReputationAtPostCreation', \n",
    "           'OwnerUndeletedAnswerCountAtPostTime', 'Title', 'BodyMarkdown', 'Tag1', 'Tag2', 'Tag3', 'Tag4', \n",
    "           'Tag5', 'PostClosedDate', 'OpenStatus']\n",
    "listData = []\n",
    "for i in range(len(res)):\n",
    "    l = res[i].getList()\n",
    "    if l!=\"NaN\":\n",
    "        listData.append(l)"
   ]
  },
  {
   "cell_type": "code",
   "execution_count": 10,
   "metadata": {
    "collapsed": false
   },
   "outputs": [],
   "source": [
    "data = pd.DataFrame(listData, columns=cols)"
   ]
  },
  {
   "cell_type": "code",
   "execution_count": 11,
   "metadata": {
    "collapsed": false
   },
   "outputs": [
    {
     "data": {
      "text/plain": [
       "0    3266\n",
       "4     405\n",
       "2     365\n",
       "3     356\n",
       "1     321\n",
       "Name: OpenStatus, dtype: int64"
      ]
     },
     "execution_count": 11,
     "metadata": {},
     "output_type": "execute_result"
    }
   ],
   "source": [
    "data.OpenStatus.value_counts()"
   ]
  },
  {
   "cell_type": "code",
   "execution_count": 13,
   "metadata": {
    "collapsed": false
   },
   "outputs": [],
   "source": [
    "data.ReputationAtPostCreation=data.ReputationAtPostCreation.astype(int)\n",
    "data.PostId=data.PostId.astype(int)\n",
    "data.OwnerUserId=data.OwnerUserId.astype(int)\n",
    "data.OwnerUndeletedAnswerCountAtPostTime=data.OwnerUndeletedAnswerCountAtPostTime.astype(int)\n",
    "data.OwnerUserId=data.OwnerUserId.astype(int)"
   ]
  },
  {
   "cell_type": "markdown",
   "metadata": {},
   "source": [
    "## Make new features"
   ]
  },
  {
   "cell_type": "code",
   "execution_count": 14,
   "metadata": {
    "collapsed": false
   },
   "outputs": [],
   "source": [
    "def find_code(data):\n",
    "    symbols = ['$','(', '{', '[', '=', '<', '#', '%', '@']\n",
    "\n",
    "    textCol=[]\n",
    "    codeCol=[]\n",
    "    for index, row in data.iterrows():\n",
    "        words=[]\n",
    "        words = str(row.BodyMarkdown)\n",
    "        sents = words.split('\\n\\n\\n')\n",
    "        text=''\n",
    "        code=''\n",
    "        for sent in sents:\n",
    "            cnt = 0\n",
    "            for sym in symbols:\n",
    "                cnt = cnt + sent.count(sym)\n",
    "            if cnt>3:\n",
    "                code = code +sent+' '\n",
    "            else:\n",
    "                text = text + sent + ' '\n",
    "        \n",
    "        textCol.append(text)\n",
    "        codeCol.append(code)\n",
    "        \n",
    "    data['Text']=textCol\n",
    "    data['Code'] = codeCol\n"
   ]
  },
  {
   "cell_type": "code",
   "execution_count": 15,
   "metadata": {
    "collapsed": false
   },
   "outputs": [],
   "source": [
    "find_code(data)"
   ]
  },
  {
   "cell_type": "code",
   "execution_count": 16,
   "metadata": {
    "collapsed": false
   },
   "outputs": [],
   "source": [
    "def deleteBags(data):\n",
    "    bags = ['\\n','\\t','\\\\n','(','\"','+','-','=',',',';',')','{',\n",
    "            '}','[',']','?','!','$', '|', '<', '>', '#','\\\\0','*']\n",
    "    for s in bags:\n",
    "        data.Text = data.Text.apply(lambda x: x.replace(s,''))\n",
    "        data.Code = data.Code.apply(lambda x: x.replace(s,''))\n"
   ]
  },
  {
   "cell_type": "code",
   "execution_count": 17,
   "metadata": {
    "collapsed": true
   },
   "outputs": [],
   "source": [
    "deleteBags(data)"
   ]
  },
  {
   "cell_type": "code",
   "execution_count": 22,
   "metadata": {
    "collapsed": false
   },
   "outputs": [
    {
     "name": "stdout",
     "output_type": "stream",
     "text": [
      "[nltk_data] Downloading package punkt to /home/argali/nltk_data...\n",
      "[nltk_data]   Package punkt is already up-to-date!\n"
     ]
    }
   ],
   "source": [
    "import nltk\n",
    "nltk.download('punkt')\n",
    "\n",
    "# Do this in your ipython notebook or analysis script\n",
    "from nltk.tokenize import word_tokenize\n",
    "\n",
    "def get_time(x):\n",
    "    try:\n",
    "        return time.mktime(datetime.datetime.strptime(x, '%m/%d/%Y %H:%M:%S').timetuple())\n",
    "    except:\n",
    "        return time.mktime(datetime.datetime.strptime(x, '%Y-%m-%d').timetuple())\n",
    "    \n",
    "def make_new_features(data):\n",
    "    ls = []\n",
    "    tg = []\n",
    "    dt=[]\n",
    "    for ind,row in data.iterrows():        \n",
    "        s = str(row.Tag1) + ' ' + str(row.Tag2) + ' ' + str(row.Tag3) + ' ' + str(row.Tag4) + ' ' + str(row.Tag5)\n",
    "        if s.find(\"NaN\")!=-1:\n",
    "            s = s[0:s.find(\"NaN\")]\n",
    "        tg.append(len(s.split(' '))-1)\n",
    "        ls.append(s)\n",
    "        \n",
    "        if row.PostClosedDate!='0':\n",
    "            dt.append(get_time(row.PostClosedDate) - get_time(row.PostCreationDate))\n",
    "        else:\n",
    "            dt.append(0)\n",
    "\n",
    "    data['PostClosedDif'] = dt\n",
    "    data['Tags'] = ls\n",
    "    data['TagsNumber']= tg\n",
    "    data['TitleWordsCnt'] = data.Title.apply(lambda x: len(nltk.word_tokenize(re.sub('\\W+', ' ', x.lower()))))\n",
    "\n",
    "    data['BodyTextCnt'] = data.Text.apply(lambda x: len(nltk.word_tokenize(re.sub('\\W+', ' ', x.lower()))))\n",
    "    data['BodyCodeCnt'] = data.Code.apply(lambda x: len(nltk.word_tokenize(re.sub('\\W+', ' ', x.lower()))))\n",
    "    data['BodyLength'] = data.BodyMarkdown.apply(lambda x: len(x.split()))\n",
    "    data['TitleLength'] = data.Title.apply(lambda x: len(x.split()))\n",
    "    \n",
    "    data['BodySentanceCnt'] = data.BodyMarkdown.apply(lambda x: len(nltk.sent_tokenize(x.lower())))\n",
    "    data['PostCreation'] = data.PostCreationDate.apply(lambda x: get_time(x))\n",
    "    data['OwnerCreation'] = data.OwnerCreationDate.apply(lambda x: get_time(x))\n",
    "    data['PostAge'] = data.PostCreation - data.OwnerCreation\n",
    " \n",
    "    #data['BodyEntersCnt']= data.BodyMarkdown.apply(lambda x: x.count('\\n') )\n",
    "    br = data.BodyMarkdown.apply(lambda x: x.count('{')) + data.BodyMarkdown.apply(lambda x: x.count('('))\n",
    "    br = br + data.BodyMarkdown.apply(lambda x: x.count('<'))\n",
    "    data['BodyBraceCnt'] = br\n",
    "    data['BodyLinksCnt'] = data.BodyMarkdown.apply(lambda x: x.count('://') )\n",
    "    #data['BodyDogCount'] = data.BodyMarkdown.apply(lambda x: x.count('@'))\n",
    "    #data['BodyEqCount'] = data.BodyMarkdown.apply(lambda x: x.count('='))\n",
    "    #data['Title?Cnt'] = data.Title.apply(lambda x: x.count('?'))\n",
    "    #data['TitleSpaceCnt']=data.Title.apply(lambda x: x.count(' '))\n",
    "    data['PostAge'] = data.PostAge.apply(lambda x: max(x, 1))\n",
    "\n"
   ]
  },
  {
   "cell_type": "code",
   "execution_count": 23,
   "metadata": {
    "collapsed": false
   },
   "outputs": [],
   "source": [
    "make_new_features(data)"
   ]
  },
  {
   "cell_type": "markdown",
   "metadata": {},
   "source": [
    "## Split data"
   ]
  },
  {
   "cell_type": "code",
   "execution_count": 24,
   "metadata": {
    "collapsed": false
   },
   "outputs": [],
   "source": [
    "n = 2500\n",
    "n2 = len(data)-n\n",
    "data_train=data[:n]\n",
    "data_test = data[-n:]\n",
    "data_real_test = []\n",
    "features = ['ReputationAtPostCreation', 'OwnerUndeletedAnswerCountAtPostTime', 'TagsNumber',\n",
    "            'TitleWordsCnt', 'BodyTextCnt', 'BodySentanceCnt', \n",
    "            'PostAge','BodyLinksCnt','BodyBraceCnt', 'BodyCodeCnt', 'PostClosedDif'\n",
    "            #'TextLength', \n",
    "            #'TitleLength','BodyEntersCnt','BodyBracketCnt','BodyAngleCnt','BodyDogCount','BodyEqCount'\n",
    "            #'Title?Cnt', 'TitleSpaceCnt',\n",
    "           ]\n",
    "X_train = np.array(data_train[features])\n",
    "X_test = np.array(data_test[features])\n",
    "X_real_test =[]\n",
    "y_train = np.array(data_train.OpenStatus)\n",
    "y_test = np.array(data_test.OpenStatus)"
   ]
  },
  {
   "cell_type": "code",
   "execution_count": 25,
   "metadata": {
    "collapsed": false
   },
   "outputs": [],
   "source": [
    "scaler = StandardScaler()\n",
    "X_train = scaler.fit_transform(X_train)\n",
    "X_test = scaler.transform(X_test)"
   ]
  },
  {
   "cell_type": "markdown",
   "metadata": {},
   "source": [
    "## Tfidf"
   ]
  },
  {
   "cell_type": "code",
   "execution_count": 26,
   "metadata": {
    "collapsed": false
   },
   "outputs": [],
   "source": [
    "docs = data_train.Text\n",
    "tags = data_train.Tags + data_train.Title\n",
    "title = data_train.Title"
   ]
  },
  {
   "cell_type": "code",
   "execution_count": 27,
   "metadata": {
    "collapsed": false
   },
   "outputs": [],
   "source": [
    "from sklearn.feature_extraction.text import TfidfVectorizer\n",
    "\n",
    "vect = TfidfVectorizer(min_df=50, analyzer='word', ngram_range=(1, 2))\n",
    "vect.fit(docs)\n",
    "X_train_tfidf = vect.transform(data_train.BodyMarkdown)\n",
    "X_test_tfidf = vect.transform(data_test.BodyMarkdown)"
   ]
  },
  {
   "cell_type": "code",
   "execution_count": 28,
   "metadata": {
    "collapsed": false
   },
   "outputs": [],
   "source": [
    "vect_tags = TfidfVectorizer(min_df=50, stop_words='english', analyzer='word', ngram_range=(1, 2))\n",
    "vect_tags.fit(tags)\n",
    "X_train_tfidf_tags = vect.transform(data_train.BodyMarkdown)\n",
    "X_test_tfidf_tags = vect.transform(data_test.BodyMarkdown)"
   ]
  },
  {
   "cell_type": "code",
   "execution_count": 29,
   "metadata": {
    "collapsed": false
   },
   "outputs": [
    {
     "data": {
      "text/plain": [
       "(2500, 608)"
      ]
     },
     "execution_count": 29,
     "metadata": {},
     "output_type": "execute_result"
    }
   ],
   "source": [
    "X_train_tfidf.shape"
   ]
  },
  {
   "cell_type": "code",
   "execution_count": 30,
   "metadata": {
    "collapsed": false
   },
   "outputs": [],
   "source": [
    "import scipy.sparse as sps\n",
    "X_train_2 = sps.hstack((X_train, X_train_tfidf))\n",
    "X_test_2 = sps.hstack((X_test, X_test_tfidf))"
   ]
  },
  {
   "cell_type": "code",
   "execution_count": 31,
   "metadata": {
    "collapsed": true
   },
   "outputs": [],
   "source": [
    "X_train_2 = sps.hstack((X_train_2, X_train_tfidf_tags))\n",
    "X_test_2 = sps.hstack((X_test_2, X_test_tfidf_tags))"
   ]
  },
  {
   "cell_type": "markdown",
   "metadata": {},
   "source": [
    "## Classifier"
   ]
  },
  {
   "cell_type": "markdown",
   "metadata": {},
   "source": [
    "Just test on KNN"
   ]
  },
  {
   "cell_type": "code",
   "execution_count": 32,
   "metadata": {
    "collapsed": false
   },
   "outputs": [
    {
     "data": {
      "text/plain": [
       "0.71399999999999997"
      ]
     },
     "execution_count": 32,
     "metadata": {},
     "output_type": "execute_result"
    }
   ],
   "source": [
    "from sklearn.neighbors import KNeighborsClassifier\n",
    "from sklearn.metrics import roc_auc_score\n",
    "from sklearn.preprocessing import StandardScaler\n",
    "\n",
    "scaler = StandardScaler()\n",
    "X_train = scaler.fit_transform(X_train)\n",
    "X_test = scaler.transform(X_test)\n",
    "\n",
    "clf = KNeighborsClassifier(n_neighbors=10)\n",
    "clf.fit(X_train, y_train)\n",
    "y_hat = clf.predict(X_test)\n",
    "skl.metrics.accuracy_score(y_test, y_hat)"
   ]
  },
  {
   "cell_type": "code",
   "execution_count": 33,
   "metadata": {
    "collapsed": false
   },
   "outputs": [
    {
     "data": {
      "text/plain": [
       "0.8468"
      ]
     },
     "execution_count": 33,
     "metadata": {},
     "output_type": "execute_result"
    }
   ],
   "source": [
    "from sklearn.ensemble import RandomForestClassifier\n",
    "\n",
    "clf = RandomForestClassifier(n_estimators=500, criterion = 'gini')\n",
    "clf.fit(X_train, y_train)\n",
    "y_hat = clf.predict(X_test)\n",
    "skl.metrics.accuracy_score(y_test, y_hat)"
   ]
  },
  {
   "cell_type": "code",
   "execution_count": 34,
   "metadata": {
    "collapsed": false
   },
   "outputs": [
    {
     "data": {
      "text/plain": [
       "0.84199999999999997"
      ]
     },
     "execution_count": 34,
     "metadata": {},
     "output_type": "execute_result"
    }
   ],
   "source": [
    "from sklearn.ensemble import GradientBoostingClassifier\n",
    "\n",
    "clf = GradientBoostingClassifier()\n",
    "clf.fit(X_train, y_train)\n",
    "y_hat = clf.predict(X_test)\n",
    "skl.metrics.accuracy_score(y_test, y_hat)"
   ]
  },
  {
   "cell_type": "code",
   "execution_count": 38,
   "metadata": {
    "collapsed": false
   },
   "outputs": [
    {
     "data": {
      "text/plain": [
       "0.69599999999999995"
      ]
     },
     "execution_count": 38,
     "metadata": {},
     "output_type": "execute_result"
    }
   ],
   "source": [
    "from sklearn.linear_model import SGDClassifier\n",
    "\n",
    "clf = SGDClassifier()\n",
    "clf.fit(X_train, y_train)\n",
    "y_hat = clf.predict(X_test)\n",
    "skl.metrics.accuracy_score(y_test, y_hat)"
   ]
  },
  {
   "cell_type": "markdown",
   "metadata": {},
   "source": [
    "#0.83477552682479894\n",
    "#0.82661996497373025\n",
    "#0.82311733800350262\n",
    "#0.84799999999999998 + links"
   ]
  },
  {
   "cell_type": "markdown",
   "metadata": {},
   "source": [
    "## Linear"
   ]
  },
  {
   "cell_type": "code",
   "execution_count": 35,
   "metadata": {
    "collapsed": false
   },
   "outputs": [
    {
     "name": "stderr",
     "output_type": "stream",
     "text": [
      "/home/argali/anaconda3/lib/python3.5/site-packages/sklearn/linear_model/logistic.py:701: UserWarning: lbfgs failed to converge. Increase the number of iterations.\n",
      "  warnings.warn(\"lbfgs failed to converge. Increase the number \"\n",
      "[Parallel(n_jobs=1)]: Done   1 out of   1 | elapsed:    1.5s finished\n"
     ]
    },
    {
     "data": {
      "text/plain": [
       "0.73999999999999999"
      ]
     },
     "execution_count": 35,
     "metadata": {},
     "output_type": "execute_result"
    }
   ],
   "source": [
    "from sklearn.linear_model import LogisticRegression, LogisticRegressionCV\n",
    "\n",
    "clf_linear = LogisticRegression(penalty='l2', dual=False, tol=0.0001, C=0.3, \n",
    "                                intercept_scaling=1, random_state=1, \n",
    "                                solver='lbfgs', \n",
    "                                max_iter=50, multi_class='multinomial', verbose=0.5)\n",
    "clf_linear.fit(X_train_2, y_train)\n",
    "y_hat = clf_linear.predict(X_test_2)\n",
    "skl.metrics.accuracy_score(y_test, y_hat)\n",
    "np.mean(y_test == y_hat)   "
   ]
  },
  {
   "cell_type": "markdown",
   "metadata": {},
   "source": [
    "0.73788674839462931"
   ]
  }
 ],
 "metadata": {
  "anaconda-cloud": {},
  "kernelspec": {
   "display_name": "Python [Root]",
   "language": "python",
   "name": "Python [Root]"
  },
  "language_info": {
   "codemirror_mode": {
    "name": "ipython",
    "version": 3
   },
   "file_extension": ".py",
   "mimetype": "text/x-python",
   "name": "python",
   "nbconvert_exporter": "python",
   "pygments_lexer": "ipython3",
   "version": "3.5.2"
  }
 },
 "nbformat": 4,
 "nbformat_minor": 0
}
